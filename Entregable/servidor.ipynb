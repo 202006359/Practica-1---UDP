{
 "cells": [
  {
   "cell_type": "code",
   "execution_count": 1,
   "metadata": {},
   "outputs": [],
   "source": [
    "import socket\n",
    "import pickle\n",
    "from API import get_pregunta_aleatoria, check_respuesta\n",
    "\n",
    "socket_servidor = socket.socket(socket.AF_INET, socket.SOCK_DGRAM)\n",
    "socket_servidor.bind((\"127.0.0.1\", 6969))\n",
    "\n",
    "while True:\n",
    "    bytes_rx, address = socket_servidor.recvfrom(1024)\n",
    "    received_message = pickle.loads(bytes_rx)\n",
    "\n",
    "    message = received_message[0]\n",
    "    number_client = received_message[1]\n",
    "\n",
    "    if message == \"Ready to play\":\n",
    "        # Obtenemos una pregunta aleatoria y sus posibles respuestas\n",
    "        pregunta_info = get_pregunta_aleatoria()\n",
    "        pregunta_texto = pregunta_info[\"Pregunta\"]\n",
    "        posibles_respuestas = pregunta_info[\"Posibles Respuestas\"]\n",
    "        respuesta_correcta = pregunta_info[\"Respuesta Correcta\"]\n",
    "\n",
    "        # Enviamos la pregunta y las posibles respuestas al cliente\n",
    "        socket_servidor.sendto(pickle.dumps((pregunta_texto, posibles_respuestas)), address)\n",
    "\n",
    "        # Recibimos la respuesta del cliente\n",
    "        bytes_rx, address = socket_servidor.recvfrom(1024)\n",
    "        received_message = pickle.loads(bytes_rx)\n",
    "        respuesta_cliente = received_message[0]\n",
    "\n",
    "        # Validamos la respuesta y enviamos el resultado al cliente\n",
    "        if check_respuesta(pregunta_texto, respuesta_cliente):\n",
    "            resultado = \"Server: Correct answer. Congratulations! \\n\"\n",
    "        else:\n",
    "            resultado = \"Server: Incorrect answer. The correct answer is \" + respuesta_correcta + \". \\n\"\n",
    "\n",
    "        socket_servidor.sendto(pickle.dumps(resultado), address)\n",
    "    if message == \"Exit\":\n",
    "        print(\"Server: Client \" + str(number_client) + \" has left the game.\")\n",
    "\n",
    "socket_servidor.close()\n",
    "\n"
   ]
  }
 ],
 "metadata": {
  "kernelspec": {
   "display_name": "base",
   "language": "python",
   "name": "python3"
  },
  "language_info": {
   "codemirror_mode": {
    "name": "ipython",
    "version": 3
   },
   "file_extension": ".py",
   "mimetype": "text/x-python",
   "name": "python",
   "nbconvert_exporter": "python",
   "pygments_lexer": "ipython3",
   "version": "3.9.12"
  }
 },
 "nbformat": 4,
 "nbformat_minor": 2
}
