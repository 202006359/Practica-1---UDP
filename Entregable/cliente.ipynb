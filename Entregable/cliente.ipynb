{
 "cells": [
  {
   "cell_type": "markdown",
   "metadata": {},
   "source": [
    "# Práctica 1 - UDP\n",
    "## Imports\n"
   ]
  },
  {
   "cell_type": "code",
   "execution_count": 7,
   "metadata": {},
   "outputs": [],
   "source": [
    "import socket\n",
    "import pickle\n",
    "import time\n",
    "import random\n",
    "from funciones import *"
   ]
  },
  {
   "cell_type": "markdown",
   "metadata": {},
   "source": [
    "## Constantes"
   ]
  },
  {
   "cell_type": "code",
   "execution_count": 8,
   "metadata": {},
   "outputs": [
    {
     "name": "stdout",
     "output_type": "stream",
     "text": [
      "Number of questions: \n",
      " 3\n"
     ]
    }
   ],
   "source": [
    "MAX_TIME_WAITING = 5\n",
    "NUM_QUESTIONS = 3 #int(input(\"Introduce the number of questions: \"))\n",
    "print(\"Number of questions: \\n\", NUM_QUESTIONS)"
   ]
  },
  {
   "cell_type": "markdown",
   "metadata": {},
   "source": [
    "## Funciones"
   ]
  },
  {
   "cell_type": "code",
   "execution_count": 9,
   "metadata": {},
   "outputs": [
    {
     "name": "stdout",
     "output_type": "stream",
     "text": [
      "Client: Ready to play.\n",
      "Server: Question 1 - What country did the allies invade in World War II's Operation Avalanche? \n",
      "1. France\n",
      "2. Spain\n",
      "3. Italy\n",
      "4. Germany\n",
      "Client: Your answer is Italy.\n",
      "Server: Correct answer. Congratulations! \n",
      "\n",
      "Server: Question 2 - Who Is Considered As The Originator Of The Concept Of A Computer?\n",
      "1. Leonard Adleman\n",
      "2. Charles Babbage\n",
      "3. John Atanasoff\n",
      "4. Ada Lovelace\n",
      "Client: Your answer is Ada Lovelace.\n",
      "Server: Incorrect answer. The correct answer is Charles Babbage. \n",
      "\n",
      "Server: Question 3 - What is Paleontology the study of?\n",
      "1. enzymes\n",
      "2. the kidneys and their diseases, a branch of medicine\n",
      "3. ants\n",
      "4. fossils of ancient life\n",
      "Client: Your answer is fossils of ancient life.\n",
      "Server: Correct answer. Congratulations! \n",
      "\n",
      "\n",
      "Your final score is 2/3.\n",
      "Thanks for playing!\n"
     ]
    }
   ],
   "source": [
    "# Initialize the UDP socket\n",
    "socket_cliente = socket.socket(socket.AF_INET, socket.SOCK_DGRAM)\n",
    "\n",
    "# Server address and port\n",
    "ip_address = \"127.0.0.1\"\n",
    "port_number = 6969\n",
    "number_client = 1\n",
    "\n",
    "user_score = 0\n",
    "# Set timeout for the socket\n",
    "socket_cliente.settimeout(MAX_TIME_WAITING)\n",
    "\n",
    "try:\n",
    "    print(\"Client: Ready to play.\")\n",
    "    for i in range(NUM_QUESTIONS):\n",
    "        # Send message to server to get a question\n",
    "        msg = \"Ready to play\"\n",
    "        send_to_server(msg, number_client, ip_address, port_number, socket_cliente)\n",
    "                   \n",
    "\n",
    "\n",
    "        # Receive question from server\n",
    "        bytes_rx = receive_from_server(socket_cliente)\n",
    "        pregunta_texto, posibles_respuestas = pickle.loads(bytes_rx)\n",
    "        print(\"Server: Question \" + str(i + 1) + \" - \" + pregunta_texto)\n",
    "        for idx, respuesta in enumerate(posibles_respuestas):\n",
    "            print(f\"{idx + 1}. {respuesta}\")\n",
    "\n",
    "        # User inputs answer\n",
    "        respuesta_usuario = input(\"Introduce your answer: \")\n",
    "        socket_cliente.sendto(pickle.dumps((respuesta_usuario, number_client)), (ip_address, port_number))\n",
    "        print(\"Client: Your answer is\", respuesta_usuario +\".\")\n",
    "\n",
    "        # Receive result from server\n",
    "        bytes_rx = receive_from_server(socket_cliente)\n",
    "        resultado = pickle.loads(bytes_rx)\n",
    "        print(resultado)\n",
    "\n",
    "        # Update user score based on the result\n",
    "        if \"Correct answer\" in resultado:\n",
    "            user_score += 1\n",
    "\n",
    "    # Send exit message to server\n",
    "    msg = \"Exit\"\n",
    "    send_to_server = (msg, number_client)\n",
    "\n",
    "    # Print final score\n",
    "    print(f\"\\nYour final score is {user_score}/{NUM_QUESTIONS}.\")\n",
    "    print(\"Thanks for playing!\")\n",
    "\n",
    "except socket.timeout:\n",
    "    print(\"Client: No response received from server within 10 seconds.\")\n",
    "except pickle.UnpicklingError:\n",
    "    print(\"Client: Error unpickling data.\")\n",
    "\n",
    "finally:\n",
    "    socket_cliente.close()"
   ]
  }
 ],
 "metadata": {
  "kernelspec": {
   "display_name": "base",
   "language": "python",
   "name": "python3"
  },
  "language_info": {
   "codemirror_mode": {
    "name": "ipython",
    "version": 3
   },
   "file_extension": ".py",
   "mimetype": "text/x-python",
   "name": "python",
   "nbconvert_exporter": "python",
   "pygments_lexer": "ipython3",
   "version": "3.9.12"
  }
 },
 "nbformat": 4,
 "nbformat_minor": 2
}
