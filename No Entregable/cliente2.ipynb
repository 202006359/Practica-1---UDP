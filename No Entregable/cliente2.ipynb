{
 "cells": [
  {
   "cell_type": "code",
   "execution_count": null,
   "metadata": {},
   "outputs": [],
   "source": [
    "import socket\n",
    "import random\n",
    "\n",
    "msg = \"Hello Server, I'm client \" + str(random.randint(1, 1000))\n",
    "bytes_tx= str.encode(msg)\n",
    "\n",
    "valid_port = False\n",
    "while not valid_port:\n",
    "    port_number = input(\"Enter the port number: \")\n",
    "    try:\n",
    "        port_number = int(port_number)\n",
    "        if port_number > 0 and port_number < 65535:\n",
    "            valid_port = True\n",
    "        else:\n",
    "            print(\"Invalid port number\")\n",
    "    except:\n",
    "        print(\"Invalid port number\")\n",
    "\n",
    "\n",
    "# tenemos que conectarnos al mismo movil para que funciona\n",
    "# server_address = (\"192.168.57.70\", 6780)\n",
    "\n",
    "server_address = (\"127.0.0.1\", port_number)\n",
    "socket = socket.socket(family=socket.AF_INET, type=socket.SOCK_DGRAM)\n",
    "socket.sendto(bytes_tx, server_address)\n",
    "\n",
    "bytes_rx = socket.recvfrom(1024)\n",
    "print(\"RX: \", bytes_rx)\n",
    "socket.close()"
   ]
  }
 ],
 "metadata": {
  "language_info": {
   "name": "python"
  }
 },
 "nbformat": 4,
 "nbformat_minor": 2
}
